{
 "cells": [
  {
   "cell_type": "markdown",
   "metadata": {},
   "source": [
    "# Welcome to Physics Applications of AI!\n",
    "\n",
    "Welcome to the first exercise session of Physics Applications of AI.\n",
    "\n",
    "In this course we want to help you become familiar with standard python libraries, toolkhits and techniques for applying machine learning to physics problems.\n",
    "\n",
    "You will work primarily with interactive python notebooks like this for the exercise classes, seeing code snippets with help text alongside them, as well as tasks for you to complete.\n",
    "\n",
    "These exercises will help you become familiar with techniques you will then apply to your semester project. However, your semester project should not be a notebook but a set of python files in a package structure.\n",
    "\n",
    "## So what is a notebook\n",
    "\n",
    "This is a notebook!\n",
    "\n",
    "They are made up of cells which are typically either markdown text or python. Any code blocks wil have `[ ]` before them, and after they are run will have `[1]` or similar, giving you an order in which the cells were run.\n",
    "\n",
    "You can run a cell with the play button above, or using keyboard shortcuts\n",
    "* control+return: run cells\n",
    "* shift+return: run cells, highlight next cell below\n",
    "* alt+return: run cells, insert a new cell below and highlight it\n",
    "\n",
    "Give it a try on the next cell, we will declare the variable `x` and set its value to 42. Use the play button, or ctrl+return to run the cell. You will see it sets the cell number to `[1]`."
   ]
  },
  {
   "cell_type": "code",
   "execution_count": 53,
   "metadata": {},
   "outputs": [],
   "source": [
    "x=42"
   ]
  },
  {
   "cell_type": "markdown",
   "metadata": {},
   "source": [
    "Now we have a variable in a global scope in python and we can do things with it.\n",
    "\n",
    "Let's run the next cell which will make use of this variable"
   ]
  },
  {
   "cell_type": "code",
   "execution_count": 54,
   "metadata": {},
   "outputs": [
    {
     "name": "stdout",
     "output_type": "stream",
     "text": [
      "42 4.2\n"
     ]
    }
   ],
   "source": [
    "y = x/10\n",
    "print(x,y)"
   ]
  },
  {
   "cell_type": "markdown",
   "metadata": {},
   "source": [
    "Now if we change x and rerun the cell directly above that you just ran let's see what happens."
   ]
  },
  {
   "cell_type": "code",
   "execution_count": 55,
   "metadata": {},
   "outputs": [],
   "source": [
    "x = 23"
   ]
  },
  {
   "cell_type": "markdown",
   "metadata": {},
   "source": [
    "Having rerun the cell you can see it went from `[2]` to `[4]` and it's printout corresponded to the new value of `x`.\n",
    "\n",
    "In notebooks, the order of cells in the notebook is not what matters, but the order you run cells!\n",
    "\n",
    "This is really useful if you want to keep a set of parameters at the top which you can easily access, change, and then rerun subsequent cells with the new values.\n",
    "\n",
    "Notebooks can be powerful debugging tools, you can rerun cells, interupt running processes, and anything which has run remains _in scope_!\n",
    "\n",
    "But, Notebooks are also slower and less efficient to run than python code, and can encourage bad practises (why use functions, config files and import functions from other files if you just run cells in different order) so beware! \n",
    "\n",
    "Although you may use a lot of snippets and repeat a lot of code in notebooks, they are no replacement for good coding practices.\n",
    "\n",
    "## What else can I do in a notebook\n",
    "\n",
    "A notebook is great for writing documentation, or example cases of code, but they are even better for debugging.\n",
    "\n",
    "As well as using python you also have access to your bash terminal from within the notebook. TO use bash commands you just prefix the command with `!`.\n",
    "\n",
    "Let's see where we are and what's in our directory\n",
    "\n",
    "If you want, you can highlight both cells and press shift+return or ctrl+return to run them both."
   ]
  },
  {
   "cell_type": "code",
   "execution_count": 56,
   "metadata": {},
   "outputs": [
    {
     "name": "stdout",
     "output_type": "stream",
     "text": [
      "/home/student\r\n"
     ]
    }
   ],
   "source": [
    "!pwd"
   ]
  },
  {
   "cell_type": "code",
   "execution_count": 57,
   "metadata": {},
   "outputs": [
    {
     "name": "stdout",
     "output_type": "stream",
     "text": [
      "Introduction.ipynb  README.md  data\r\n"
     ]
    }
   ],
   "source": [
    "!ls"
   ]
  },
  {
   "cell_type": "markdown",
   "metadata": {},
   "source": [
    "If we had had both of those commands in one line, what would have happened?"
   ]
  },
  {
   "cell_type": "code",
   "execution_count": 58,
   "metadata": {},
   "outputs": [
    {
     "name": "stdout",
     "output_type": "stream",
     "text": [
      "/home/student\n",
      "Introduction.ipynb  README.md  data\n"
     ]
    }
   ],
   "source": [
    "!pwd\n",
    "!ls"
   ]
  },
  {
   "cell_type": "code",
   "execution_count": 59,
   "metadata": {},
   "outputs": [
    {
     "name": "stdout",
     "output_type": "stream",
     "text": [
      "23\n",
      "4.2\n"
     ]
    }
   ],
   "source": [
    "print(x)\n",
    "print(y)"
   ]
  },
  {
   "cell_type": "markdown",
   "metadata": {},
   "source": [
    "With any print command, things will always be output to the notebook output.\n",
    "\n",
    "But, if you just use the variuable itself, you will see it doesn't quite behave in the same way!"
   ]
  },
  {
   "cell_type": "code",
   "execution_count": 60,
   "metadata": {},
   "outputs": [
    {
     "data": {
      "text/plain": [
       "4.2"
      ]
     },
     "execution_count": 60,
     "metadata": {},
     "output_type": "execute_result"
    }
   ],
   "source": [
    "x\n",
    "y"
   ]
  },
  {
   "cell_type": "markdown",
   "metadata": {},
   "source": [
    "# Useful python libraries\n",
    "\n",
    "Most modern computational python makes extensive use of non standard libraries. There are many reasons for this but one of the biggest is **speed**.\n",
    "\n",
    "Python is not a fast programming language, it is a scripting langauge. But by being a scripting language we don't need to compile everything. It is also a lot easier to step into and learn than e.g. C (which is incredibly fast!) or fortran (which is very old, but can also be even faster for certain applications).\n",
    "\n",
    "What python does have, is a huge community who develop libraries which make use of a higher level programming langauge to do all computations, but with a nice and friendly python front end.\n",
    "\n",
    "In these tutorials we will make use of **numpy** which is the golden standard for computational calculations in python.\n",
    "\n",
    "For machine learning we will use **tensorflow**, though you could also use **pytorch** if you wish for the project.\n",
    "\n",
    "## Numpy\n",
    "\n",
    "Numpy is an incredibly powerful library. You can perform calculations on arrays of numberse without for loops - everything is completely vectorised!\n",
    "\n",
    "Imagine in standard python you have two arrays of numbers you want to add together, how would you do it?"
   ]
  },
  {
   "cell_type": "code",
   "execution_count": 61,
   "metadata": {},
   "outputs": [],
   "source": [
    "a = [1, 2, 3, 4]\n",
    "b = [2, 3, 4, 5]"
   ]
  },
  {
   "cell_type": "markdown",
   "metadata": {},
   "source": [
    "What if we just add them together?"
   ]
  },
  {
   "cell_type": "code",
   "execution_count": 62,
   "metadata": {},
   "outputs": [],
   "source": [
    "c = a + b"
   ]
  },
  {
   "cell_type": "code",
   "execution_count": 63,
   "metadata": {},
   "outputs": [
    {
     "name": "stdout",
     "output_type": "stream",
     "text": [
      "[1, 2, 3, 4, 2, 3, 4, 5]\n"
     ]
    }
   ],
   "source": [
    "print(c)"
   ]
  },
  {
   "cell_type": "markdown",
   "metadata": {},
   "source": [
    "Nope, try again! When you have list objects in python, adding them together is concatenating lists.\n",
    "\n",
    "The operators operate on the object type, not the element type - we need to access the elements!"
   ]
  },
  {
   "cell_type": "code",
   "execution_count": 64,
   "metadata": {},
   "outputs": [
    {
     "name": "stdout",
     "output_type": "stream",
     "text": [
      "[3, 5, 7, 9]\n"
     ]
    }
   ],
   "source": [
    "c = []\n",
    "for i in range(len(a)):\n",
    "  c.append(a[i]+b[i])\n",
    "print(c)"
   ]
  },
  {
   "cell_type": "markdown",
   "metadata": {},
   "source": [
    "Now that is far from ideal, having to use a for loop each time we want to do vector calculations.\n",
    "\n",
    "We can make it faster using generator expressions, but it will be a lot of code, and for loops in python are never going to be as fast as using C."
   ]
  },
  {
   "cell_type": "code",
   "execution_count": 65,
   "metadata": {},
   "outputs": [],
   "source": [
    "c = [i+j for i,j in zip(a,b)]"
   ]
  },
  {
   "cell_type": "markdown",
   "metadata": {},
   "source": [
    "How do those two implementations compare, you ask?\n",
    "\n",
    "Well, because we are in a notebook we can actually benchmark them against oneanother with expressions!\n",
    "\n",
    "Let's use the timeit expression and time the operations"
   ]
  },
  {
   "cell_type": "code",
   "execution_count": 66,
   "metadata": {},
   "outputs": [
    {
     "name": "stdout",
     "output_type": "stream",
     "text": [
      "759 ns ± 19.5 ns per loop (mean ± std. dev. of 7 runs, 1000000 loops each)\n"
     ]
    }
   ],
   "source": [
    "%%timeit\n",
    "test1 = []\n",
    "for i in range(len(a)):\n",
    "  test1.append(a[i]+b[i])"
   ]
  },
  {
   "cell_type": "code",
   "execution_count": 67,
   "metadata": {},
   "outputs": [
    {
     "name": "stdout",
     "output_type": "stream",
     "text": [
      "672 ns ± 12.3 ns per loop (mean ± std. dev. of 7 runs, 1000000 loops each)\n"
     ]
    }
   ],
   "source": [
    "%%timeit\n",
    "test2 = [i+j for i,j in zip(a,b)]"
   ]
  },
  {
   "cell_type": "markdown",
   "metadata": {},
   "source": [
    "But how would we do this in numpy then, let's first import the library and have a look."
   ]
  },
  {
   "cell_type": "code",
   "execution_count": 68,
   "metadata": {},
   "outputs": [],
   "source": [
    "import numpy as np"
   ]
  },
  {
   "cell_type": "markdown",
   "metadata": {},
   "source": [
    "If we convert our python lists to numpy arrays, we can now use the addition operator as expected."
   ]
  },
  {
   "cell_type": "code",
   "execution_count": 69,
   "metadata": {},
   "outputs": [
    {
     "name": "stdout",
     "output_type": "stream",
     "text": [
      "[3 5 7 9]\n"
     ]
    }
   ],
   "source": [
    "c = np.array(a)+np.array(b)\n",
    "print(c)"
   ]
  },
  {
   "cell_type": "markdown",
   "metadata": {},
   "source": [
    "For a fair speed comparison we should already create our arrays as numpy arrays - if we always work with numpy this would be a given!"
   ]
  },
  {
   "cell_type": "code",
   "execution_count": 70,
   "metadata": {},
   "outputs": [],
   "source": [
    "n_a = np.array(a)\n",
    "n_b = np.array(b)"
   ]
  },
  {
   "cell_type": "code",
   "execution_count": 71,
   "metadata": {},
   "outputs": [
    {
     "name": "stdout",
     "output_type": "stream",
     "text": [
      "505 ns ± 3.13 ns per loop (mean ± std. dev. of 7 runs, 1000000 loops each)\n"
     ]
    }
   ],
   "source": [
    "%%timeit\n",
    "test3 = n_a+n_b"
   ]
  },
  {
   "cell_type": "markdown",
   "metadata": {},
   "source": [
    "But numpy arrays aren't limited to one dimensional arrays, they can support up to N dimensions.\n",
    "\n",
    "We can tell the size of a numpy array from its \"shape\". A shape tuple specifies how many elements are in each dimension, with the number of dimensions known as its rank."
   ]
  },
  {
   "cell_type": "code",
   "execution_count": 72,
   "metadata": {},
   "outputs": [],
   "source": [
    "a = np.identity(4)"
   ]
  },
  {
   "cell_type": "code",
   "execution_count": 73,
   "metadata": {},
   "outputs": [
    {
     "name": "stdout",
     "output_type": "stream",
     "text": [
      "a=\n",
      "[[1. 0. 0. 0.]\n",
      " [0. 1. 0. 0.]\n",
      " [0. 0. 1. 0.]\n",
      " [0. 0. 0. 1.]]\n",
      "shape=(4, 4)\n"
     ]
    }
   ],
   "source": [
    "print(f\"a=\\n{a}\")\n",
    "print(f\"shape={a.shape}\")"
   ]
  },
  {
   "cell_type": "markdown",
   "metadata": {},
   "source": [
    "Here we see we have a 2-dimensional array with four elements in each dimension (a 4x4 matrix).\n",
    "\n",
    "We can also now do any kind of manipulation we like with numpy arrays, just like we can with matrices."
   ]
  },
  {
   "cell_type": "code",
   "execution_count": 74,
   "metadata": {},
   "outputs": [
    {
     "name": "stdout",
     "output_type": "stream",
     "text": [
      "[[3. 0. 0. 0.]\n",
      " [0. 3. 0. 0.]\n",
      " [0. 0. 3. 0.]\n",
      " [0. 0. 0. 3.]]\n"
     ]
    }
   ],
   "source": [
    "print(a*3)"
   ]
  },
  {
   "cell_type": "code",
   "execution_count": 75,
   "metadata": {},
   "outputs": [
    {
     "name": "stdout",
     "output_type": "stream",
     "text": [
      "[[2. 1. 1. 1.]\n",
      " [1. 2. 1. 1.]\n",
      " [1. 1. 2. 1.]\n",
      " [1. 1. 1. 2.]]\n"
     ]
    }
   ],
   "source": [
    "print(a+np.ones_like(a))"
   ]
  },
  {
   "cell_type": "markdown",
   "metadata": {},
   "source": [
    "We can even combine arrays of different rank (ie a rank 2 array and a rank 1 array) as long as the length of the dimensions are compatible."
   ]
  },
  {
   "cell_type": "code",
   "execution_count": 76,
   "metadata": {},
   "outputs": [
    {
     "name": "stdout",
     "output_type": "stream",
     "text": [
      "[[ 4.  5.  7.  9.]\n",
      " [ 3.  6.  7.  9.]\n",
      " [ 3.  5.  8.  9.]\n",
      " [ 3.  5.  7. 10.]]\n"
     ]
    }
   ],
   "source": [
    "print(a+c)"
   ]
  },
  {
   "cell_type": "markdown",
   "metadata": {},
   "source": [
    "However, this has added c to the last dimension of a, i.e. to each row.\n",
    "\n",
    "What if we wanted to add it to each column instead?\n",
    "\n",
    "Here we need to start manipulation the arrays and taking control of how numpy \"broadcasts\" arrays of different size.\n",
    "\n",
    "Here we can see the shape of c, and we see that it is a rank 1 array of length four"
   ]
  },
  {
   "cell_type": "code",
   "execution_count": 77,
   "metadata": {},
   "outputs": [
    {
     "data": {
      "text/plain": [
       "(4,)"
      ]
     },
     "execution_count": 77,
     "metadata": {},
     "output_type": "execute_result"
    }
   ],
   "source": [
    "c.shape"
   ]
  },
  {
   "cell_type": "markdown",
   "metadata": {},
   "source": [
    "Even if we take its transport, it is still just a rank 1, of size four."
   ]
  },
  {
   "cell_type": "code",
   "execution_count": 78,
   "metadata": {},
   "outputs": [
    {
     "data": {
      "text/plain": [
       "(4,)"
      ]
     },
     "execution_count": 78,
     "metadata": {},
     "output_type": "execute_result"
    }
   ],
   "source": [
    "np.transpose(c).shape"
   ]
  },
  {
   "cell_type": "markdown",
   "metadata": {},
   "source": [
    "However, what if we made it a (4,1) array, or a (1,4) array? That would be the same number of elements, but now we have specified whether it is a column or row vector!"
   ]
  },
  {
   "cell_type": "code",
   "execution_count": 79,
   "metadata": {},
   "outputs": [],
   "source": [
    "c1 = np.expand_dims(c,0)\n",
    "c2 = np.expand_dims(c,1)"
   ]
  },
  {
   "cell_type": "code",
   "execution_count": 80,
   "metadata": {},
   "outputs": [
    {
     "name": "stdout",
     "output_type": "stream",
     "text": [
      "[[3 5 7 9]]\n"
     ]
    }
   ],
   "source": [
    "print(c1)"
   ]
  },
  {
   "cell_type": "code",
   "execution_count": 81,
   "metadata": {},
   "outputs": [
    {
     "name": "stdout",
     "output_type": "stream",
     "text": [
      "[[3]\n",
      " [5]\n",
      " [7]\n",
      " [9]]\n"
     ]
    }
   ],
   "source": [
    "print(c2)"
   ]
  },
  {
   "cell_type": "code",
   "execution_count": 82,
   "metadata": {
    "scrolled": true
   },
   "outputs": [
    {
     "name": "stdout",
     "output_type": "stream",
     "text": [
      "(1, 4)\n",
      "(4, 1)\n"
     ]
    }
   ],
   "source": [
    "print(c1.shape)\n",
    "print(c2.shape)"
   ]
  },
  {
   "cell_type": "code",
   "execution_count": 83,
   "metadata": {},
   "outputs": [
    {
     "name": "stdout",
     "output_type": "stream",
     "text": [
      "[[ 4.  5.  7.  9.]\n",
      " [ 3.  6.  7.  9.]\n",
      " [ 3.  5.  8.  9.]\n",
      " [ 3.  5.  7. 10.]]\n"
     ]
    }
   ],
   "source": [
    "print(a+c1)"
   ]
  },
  {
   "cell_type": "markdown",
   "metadata": {},
   "source": [
    "Here we see that we get the same result as before, but now when we have the column vector c2 we get a different result!"
   ]
  },
  {
   "cell_type": "code",
   "execution_count": 84,
   "metadata": {},
   "outputs": [
    {
     "name": "stdout",
     "output_type": "stream",
     "text": [
      "[[ 4.  3.  3.  3.]\n",
      " [ 5.  6.  5.  5.]\n",
      " [ 7.  7.  8.  7.]\n",
      " [ 9.  9.  9. 10.]]\n"
     ]
    }
   ],
   "source": [
    "print(a+c2)"
   ]
  },
  {
   "cell_type": "markdown",
   "metadata": {},
   "source": [
    "You can tell which dimensions will be added together, or used for the operations, based on the shape and the rank.\n",
    "\n",
    "They will always use the right-most common dimension(s) if not specific.\n",
    "\n",
    "For tensors with the same rank, as long as where the length in each dimension differs one of the tensors has length 1, they will be combined by \"tiling\" the 1-dimension (aka repeating it) N times to create the same shape arrays.\n",
    "\n",
    "Numpy can also handle multiplication just like matrices.\n",
    "\n",
    "A lot of this can be done implicitly, again using the length 1 dimensions. But otherwise they work just like matrix multiplication. The lengths of the inner dimensions should agree ie `(a,b,c,N)*(N,d,e,f)`.\n",
    "\n",
    "## Summary\n",
    "\n",
    "Numpy is an incredible library with far too much content to document here. But if you ever get stuck with how to work with numpy arrays stackoverflow is your friend!\n",
    "\n",
    "There are questions and answers to all problems, and it is a very active community.\n",
    "\n",
    "But feel free to play around with numpy arrays and learn their functionality. There are quite a few useful functions in the library, and it is not just a matter of addition, multiplication and taking exponents."
   ]
  },
  {
   "cell_type": "code",
   "execution_count": 85,
   "metadata": {},
   "outputs": [
    {
     "data": {
      "text/plain": [
       "array([[1., 0., 0., 0.],\n",
       "       [0., 1., 0., 0.],\n",
       "       [0., 0., 1., 0.],\n",
       "       [0., 0., 0., 1.]])"
      ]
     },
     "execution_count": 85,
     "metadata": {},
     "output_type": "execute_result"
    }
   ],
   "source": [
    "# take the transpose of an array\n",
    "a.transpose()"
   ]
  },
  {
   "cell_type": "code",
   "execution_count": 86,
   "metadata": {},
   "outputs": [
    {
     "data": {
      "text/plain": [
       "array([[[1., 0., 0., 0.]],\n",
       "\n",
       "       [[0., 1., 0., 0.]],\n",
       "\n",
       "       [[0., 0., 1., 0.]],\n",
       "\n",
       "       [[0., 0., 0., 1.]]])"
      ]
     },
     "execution_count": 86,
     "metadata": {},
     "output_type": "execute_result"
    }
   ],
   "source": [
    "#create a rank 3 array and you can specify which order to rearrange the axis!\n",
    "b=np.expand_dims(a,-1)\n",
    "np.transpose(b,(0,2,1))"
   ]
  },
  {
   "cell_type": "code",
   "execution_count": 87,
   "metadata": {},
   "outputs": [
    {
     "data": {
      "text/plain": [
       "array([5., 1., 3., 4.])"
      ]
     },
     "execution_count": 87,
     "metadata": {},
     "output_type": "execute_result"
    }
   ],
   "source": [
    "#take the log\n",
    "x=np.log([5,2,3,4])\n",
    "#replace elements given a condition\n",
    "x=np.where(x<1,0,x)\n",
    "#take natural exponent\n",
    "np.exp(x)"
   ]
  },
  {
   "cell_type": "markdown",
   "metadata": {},
   "source": [
    "The operations in numpy arrays and how to manipulate them are very important in machine learning.\n",
    "\n",
    "Machine learning makes use of tensors, which is just another word for an ndimensional array.\n",
    "All operations are performed on tensors and making sure the shapes are right is key.\n",
    "\n",
    "In a standard multi-layer perceptron for a classifier we take N inputs, pass them through a network and have M outputs for each class. In the case of a two class problem, M=1.\n",
    "\n",
    "You may think then that we just have rank 1 tensors, but that's not quite true! In machine learning we train on batches of data, or consider the whole dataset.\n",
    "\n",
    "Therefore we actually have as an input a tensor `i` of shape `(batchsize,N)`, and an output `o` of `(batchsize,M)`."
   ]
  },
  {
   "cell_type": "markdown",
   "metadata": {},
   "source": [
    "# Example: an MLP\n",
    "\n",
    "In a multilayer perceptron we combine the simplest layers together into a small network.\n",
    "\n",
    "In each layer we have a set number of nodes. At each node we perform an affine transformation on each input (`y=mx+c`) and take the sum over all inputs. The output of the layer is the resulting sums from all of the nodes.\n",
    "\n",
    "Let's say in a fully connected hidden layer we have `J` nodes.\n",
    "At each node all inputs are multiplied by a weight `w`, and then the sum is taken over all inputs and a bias `b` is added as a constant value (the sum over all of our `c` is independent of the inputs, so we just add one value).\n",
    "\n",
    "Therefore each node `j` can be described as an array of weights for each incoming value in `i`, and a bias value `b_j`\n",
    "\n",
    "Each node `j` is therefore an array of shape `(i,)` and `(1,)`, and as we have `J` nodes, we can actually now start looking at this as a matrix!\n",
    "\n",
    "Thus, the layer `h` is described by two arrays `w` and `b` with shapes `w=(i,J)` and `b=(J,)`.\n",
    "\n",
    "Now if we want to pass our inputs through this layer, we can write the maths as a simple matrix multiplication instead of having to visualise this as a black box.\n",
    "\n",
    "And now instead of having to take a sum, we can do the dot product of our matrices! Remember that in terms of matrix shapes `(n,i).(i,J) = (n,J)` with the sum taken over the inner dimension!"
   ]
  },
  {
   "cell_type": "code",
   "execution_count": 127,
   "metadata": {},
   "outputs": [
    {
     "name": "stdout",
     "output_type": "stream",
     "text": [
      "Input =\n",
      "[[3 4]],shape=(1, 2)\n"
     ]
    }
   ],
   "source": [
    "#We have two values in our input array, they are 3 and 4.\n",
    "#Note here that the values have been given as\n",
    "[\n",
    "    [3,4]\n",
    "]\n",
    "#Which is a rank 2 tensor (1,2). This is so that we don't run into the issue we had above with broadcasting!\n",
    "#We want to make sure we have our (n,i).(i,J) multiplication over i.\n",
    "#Without specifying n as 1 we have (n).(i,J) which is not possible!\n",
    "i = np.array([[3,4]])\n",
    "\n",
    "print(f\"Input =\\n{i},shape={i.shape}\")"
   ]
  },
  {
   "cell_type": "code",
   "execution_count": 128,
   "metadata": {},
   "outputs": [
    {
     "name": "stdout",
     "output_type": "stream",
     "text": [
      "Weights =\n",
      "[[0.83232235 0.78744211 0.77369747 0.80805561]\n",
      " [0.04241299 0.93202812 0.58859342 0.50010588]],shape=(2, 4)\n",
      "Biases = \n",
      "[0.87470456 0.68557821 0.43703538 0.99054669],shape=(4,)\n"
     ]
    }
   ],
   "source": [
    "#Our hidden layer h has four nodes, so we need a weight tensor with shape (2,4) and a bias tensor with shape (4,)\n",
    "#Lets given them random values for now (we pass the shape as an argument and get values between 0 and 1)\n",
    "w = np.random.random((2,4))\n",
    "b = np.random.random((4,))\n",
    "\n",
    "print(f\"Weights =\\n{w},shape={w.shape}\")\n",
    "print(f\"Biases = \\n{b},shape={b.shape}\")"
   ]
  },
  {
   "cell_type": "code",
   "execution_count": 129,
   "metadata": {},
   "outputs": [
    {
     "name": "stdout",
     "output_type": "stream",
     "text": [
      "Output =\n",
      "[[2.66661902 6.09043882 4.67546607 4.42459034]],shape=(1, 4)\n",
      "Output =\n",
      "[[3.54132358 6.77601703 5.11250145 5.41513703]],shape=(1, 4)\n"
     ]
    }
   ],
   "source": [
    "#Do the dot product, add the biases\n",
    "_o = np.dot(i,w)\n",
    "o = _o+b\n",
    "print(f\"Output =\\n{_o},shape={_o.shape}\")\n",
    "print(f\"Output =\\n{o},shape={o.shape}\")"
   ]
  },
  {
   "cell_type": "markdown",
   "metadata": {},
   "source": [
    "Now the exact same operations could have been done even if we gave it 1000 different inputs at once in a tensor of shape `(1000,2)`!"
   ]
  },
  {
   "cell_type": "code",
   "execution_count": 130,
   "metadata": {},
   "outputs": [
    {
     "name": "stdout",
     "output_type": "stream",
     "text": [
      "[0.87470456 0.68557821 0.43703538 0.99054669]\n"
     ]
    }
   ],
   "source": [
    "print(b)"
   ]
  },
  {
   "cell_type": "code",
   "execution_count": 134,
   "metadata": {},
   "outputs": [
    {
     "name": "stdout",
     "output_type": "stream",
     "text": [
      "(4,)\n"
     ]
    }
   ],
   "source": [
    "print(b.shape)"
   ]
  },
  {
   "cell_type": "code",
   "execution_count": 136,
   "metadata": {},
   "outputs": [
    {
     "name": "stdout",
     "output_type": "stream",
     "text": [
      "[[0.87470456]\n",
      " [0.68557821]\n",
      " [0.43703538]\n",
      " [0.99054669]]\n"
     ]
    }
   ],
   "source": [
    "print(b.reshape(4,1))"
   ]
  },
  {
   "cell_type": "code",
   "execution_count": 139,
   "metadata": {},
   "outputs": [
    {
     "name": "stdout",
     "output_type": "stream",
     "text": [
      "[[2.66661902]\n",
      " [6.09043882]\n",
      " [4.67546607]\n",
      " [4.42459034]]\n"
     ]
    }
   ],
   "source": [
    "print(_o.reshape(4,1))"
   ]
  },
  {
   "cell_type": "code",
   "execution_count": 140,
   "metadata": {},
   "outputs": [
    {
     "name": "stdout",
     "output_type": "stream",
     "text": [
      "[[3.54132358 3.35219723 3.1036544  3.65716571]\n",
      " [6.96514338 6.77601703 6.5274742  7.08098551]\n",
      " [5.55017063 5.36104428 5.11250145 5.66601276]\n",
      " [5.2992949  5.11016855 4.86162572 5.41513703]]\n"
     ]
    }
   ],
   "source": [
    "print(_o.reshape(4,1)+b)"
   ]
  },
  {
   "cell_type": "code",
   "execution_count": 91,
   "metadata": {},
   "outputs": [
    {
     "name": "stdout",
     "output_type": "stream",
     "text": [
      "Output =\n",
      "[[1.55929994 0.9477212  1.15712133 2.00566252]\n",
      " [1.936291   1.12236042 1.50537296 2.47149767]\n",
      " [1.67500282 0.93793501 1.27869784 2.13891946]\n",
      " [2.07064449 1.20061764 1.62577069 2.63996847]\n",
      " [1.18659435 0.40865047 0.89777227 1.48897248]],shape=(1000, 4)\n"
     ]
    }
   ],
   "source": [
    "i=np.random.random((1000,2))\n",
    "o = np.dot(i,w)+b\n",
    "\n",
    "#Lets only print out five outputs though!\n",
    "print(f\"Output =\\n{o[:5]},shape={o.shape}\")"
   ]
  },
  {
   "cell_type": "markdown",
   "metadata": {},
   "source": [
    "# Loading data from a file\n",
    "\n",
    "There are two files with data in the directory data.\n",
    "\n",
    "Using exclamation marks find their paths and load them with `file1 = np.load(\"filepath\")`.\n",
    "\n",
    "These files were saved with np.savez which creates numpy directory files. You can view their contents with\n",
    "`print(file.files)` and then access the arrays by their name with `file['key']`."
   ]
  },
  {
   "cell_type": "code",
   "execution_count": 92,
   "metadata": {},
   "outputs": [
    {
     "name": "stdout",
     "output_type": "stream",
     "text": [
      "dummy.txt  inputs.npz  layer.npz\r\n"
     ]
    }
   ],
   "source": [
    "!ls data"
   ]
  },
  {
   "cell_type": "code",
   "execution_count": 93,
   "metadata": {},
   "outputs": [],
   "source": [
    "path = 'data/inputs.npz'\n",
    "file1 = np.load(path)\n",
    "path = 'data/layer.npz'\n",
    "file2 = np.load(path)"
   ]
  },
  {
   "cell_type": "code",
   "execution_count": 94,
   "metadata": {},
   "outputs": [
    {
     "name": "stdout",
     "output_type": "stream",
     "text": [
      "['inputs']\n",
      "['weights', 'biases']\n"
     ]
    }
   ],
   "source": [
    "print(file1.files)\n",
    "print(file2.files)"
   ]
  },
  {
   "cell_type": "markdown",
   "metadata": {},
   "source": [
    "Set the values of `b` and `w` to the values you have loaded from the file and rerun the operations for an MLP layer given the data in `i` (create a new cell with `o = np.dot(i,w)+b`).\n",
    "\n",
    "Check that the output you get for the first element and last element agree with what we have here:\n",
    "\n",
    "`o[0] = [1.41871711 1.0592737  1.68353455 0.72840978]\n",
    "o[-1] = [1.80848224 1.30726514 2.12530942 0.82183906]`"
   ]
  },
  {
   "cell_type": "code",
   "execution_count": 164,
   "metadata": {},
   "outputs": [
    {
     "name": "stdout",
     "output_type": "stream",
     "text": [
      "Biases:\n",
      "[0.70100159 0.57808533 0.86964542 0.54268547]\n",
      " and weights:\n",
      "[[0.84240844 0.43610242 0.95317922 0.14622526]\n",
      " [0.84414567 0.88211978 0.96244896 0.39476239]]\n"
     ]
    }
   ],
   "source": [
    "i = file1['inputs']\n",
    "b = file2['biases']\n",
    "w = file2['weights']\n",
    "print(f'Biases:\\n{b}\\n and weights:\\n{w}')"
   ]
  },
  {
   "cell_type": "code",
   "execution_count": 165,
   "metadata": {},
   "outputs": [
    {
     "name": "stdout",
     "output_type": "stream",
     "text": [
      "Input:\n",
      "[[0.60516111 0.24631138]\n",
      " [0.72508471 0.9627239 ]\n",
      " [0.88902697 0.30030197]\n",
      " ...\n",
      " [0.48417863 0.489181  ]\n",
      " [0.57487181 0.97916611]\n",
      " [0.96379834 0.35013955]]\n",
      " and inputs shape:\n",
      "(1000, 2)\n"
     ]
    }
   ],
   "source": [
    "print(f'Input:\\n{i}\\n and inputs shape:\\n{i.shape}')"
   ]
  },
  {
   "cell_type": "code",
   "execution_count": 166,
   "metadata": {},
   "outputs": [
    {
     "name": "stdout",
     "output_type": "stream",
     "text": [
      "Output shape:\n",
      "(1000, 4)\n",
      "Output[0]:\n",
      "[1.41871711 1.0592737  1.68353455 0.72840978]\n",
      "Output[-1]:\n",
      "[1.80848224 1.30726514 2.12530942 0.82183906]\n"
     ]
    }
   ],
   "source": [
    "o = np.dot(i,w)+b\n",
    "print(f'Output shape:\\n{o.shape}')\n",
    "print(f'Output[0]:\\n{o[0]}')\n",
    "print(f'Output[-1]:\\n{o[-1]}')"
   ]
  },
  {
   "cell_type": "markdown",
   "metadata": {},
   "source": [
    "You will also come across files saved in many other formats. Some of the most common are `.h5` files which is an efficient way to store data that enables quick access to non sequential blocks in memory - you aren't restricted to loading all the data, but can instead specify a \"slice\" by their index.\n",
    "\n",
    "Just like in the numpy files we loaded, arrays are stored by key name. Typically, we save our data as numpy arrays even when using machine learning toolkits."
   ]
  },
  {
   "cell_type": "markdown",
   "metadata": {},
   "source": [
    "# How about in tensorflow?\n",
    "\n",
    "As already mentioned, tensors are just like numpy arrays, however they have a few more extra properties.\n",
    "\n",
    "Just like numpy, everything is built on a C backend that you never need to see, and the general operations on the tensors is very similar - though some may have different names.\n",
    "\n",
    "But unlike with numpy you can often find yourself working with symbolic tensors (not yet defined) in tensorflow, and even more importantly - we want to keep track of gradients!\n",
    "\n",
    "In numpy, we manipulate data and get results. With tensors we want to keep track of all operations, build up a \"formula\" for what we have just calculated, and using the chain rule calculate the gradients with respect to our output (our cost function in machine learning).\n",
    "\n",
    "But to get started, let's just load tensorflow and have a look at our example from before."
   ]
  },
  {
   "cell_type": "code",
   "execution_count": 167,
   "metadata": {},
   "outputs": [],
   "source": [
    "import tensorflow as tf"
   ]
  },
  {
   "cell_type": "code",
   "execution_count": 168,
   "metadata": {},
   "outputs": [],
   "source": [
    "i_t = tf.convert_to_tensor(i)\n",
    "w_t = tf.convert_to_tensor(w)\n",
    "b_t = tf.convert_to_tensor(b)"
   ]
  },
  {
   "cell_type": "code",
   "execution_count": 169,
   "metadata": {},
   "outputs": [
    {
     "name": "stdout",
     "output_type": "stream",
     "text": [
      "tf.Tensor([1.41871711 1.0592737  1.68353455 0.72840978], shape=(4,), dtype=float64)\n",
      "tf.Tensor([1.80848224 1.30726514 2.12530942 0.82183906], shape=(4,), dtype=float64)\n"
     ]
    }
   ],
   "source": [
    "#Note here it is matmul not dot!\n",
    "o_t = tf.matmul(i_t,w_t)+b_t\n",
    "\n",
    "print(o_t[0])\n",
    "print(o_t[-1])"
   ]
  },
  {
   "cell_type": "markdown",
   "metadata": {},
   "source": [
    "Here we can see we get the same values but now with a tensor object instead of a numpy array!\n",
    "\n",
    "It is also easy to get numpy arrays from the tensors with `to_numpy()`.\n",
    "\n",
    "If we want to track the gradients we need to jump through a hoop though - no point using memory if we don't mean to!\n",
    "\n",
    "With tensorflow we need to specify that we want to keep track of gradients, we can use this with the GradientTape in a context scope and keep track of the inputs as our x.\n",
    "\n",
    "And then calculate the gradient of y with respect to x"
   ]
  },
  {
   "cell_type": "code",
   "execution_count": 170,
   "metadata": {
    "scrolled": true
   },
   "outputs": [
    {
     "name": "stdout",
     "output_type": "stream",
     "text": [
      "tf.Tensor(\n",
      "[[2.37791535 3.08347681]\n",
      " [2.37791535 3.08347681]\n",
      " [2.37791535 3.08347681]\n",
      " ...\n",
      " [2.37791535 3.08347681]\n",
      " [2.37791535 3.08347681]\n",
      " [2.37791535 3.08347681]], shape=(1000, 2), dtype=float64)\n"
     ]
    }
   ],
   "source": [
    "with tf.GradientTape() as tape:\n",
    "    tape.watch(i_t)\n",
    "    o_t = tf.matmul(i_t,w_t)+b_t\n",
    "    g = tape.gradient(o_t,i_t)\n",
    "print(g)"
   ]
  },
  {
   "cell_type": "code",
   "execution_count": 174,
   "metadata": {},
   "outputs": [
    {
     "name": "stdout",
     "output_type": "stream",
     "text": [
      "tf.Tensor(10.0, shape=(), dtype=float32)\n"
     ]
    }
   ],
   "source": [
    "x = tf.constant(5.0)\n",
    "with tf.GradientTape() as g:\n",
    "    g.watch(x)\n",
    "    y=x*x\n",
    "print(g.gradient(y,x))"
   ]
  },
  {
   "cell_type": "markdown",
   "metadata": {},
   "source": [
    "As we are just doing a constant operation multiplication we have just a fixed gradient across all our inputs. But here the results don't matter, more just that we can get gradients!\n",
    "\n",
    "In machine learning we will calculate these gradients for our weights and biases as a function of our cost function (which is defined based on `y_target` `y_predict` per event).\n",
    "\n",
    "But now you have seen the building blocks of machine learning in python! Matrix multiplication and calculating gradients.\n",
    "\n",
    "For the rest of this course we will be using tensoflow with the Keras API for building our models. This saves us a lot of time and energy, and comes with a lot of nice extra features. Nobody in research, even ML research, does everything by hand anymore, but it is very useful to understand the workings of tensors and how they interact with one another!\n",
    "\n",
    "Instead we work with modules, layers, models, and stack them together like pieces of lego.\n",
    "\n",
    "In our layers we may define new operations or combinations, and the same goes for our losses. But most neural networks are built ontop of affine transformations like you've seen today, be it convolutional layers on images or graph operations on point clouds."
   ]
  },
  {
   "cell_type": "markdown",
   "metadata": {},
   "source": [
    "# Visualisation\n",
    "\n",
    "In notebooks we can also visualise our data and produce plots in \"real time\" and view them within the notebook. The library of choice to go to for data visualisation is `matplotlib`. There are a lot of different plot types you can produce and you will come across, but for now let's just do something basic."
   ]
  },
  {
   "cell_type": "code",
   "execution_count": 178,
   "metadata": {},
   "outputs": [],
   "source": [
    "%matplotlib inline\n",
    "import matplotlib.pyplot as plt"
   ]
  },
  {
   "cell_type": "code",
   "execution_count": 182,
   "metadata": {},
   "outputs": [
    {
     "data": {
      "text/plain": [
       "Text(0, 0.5, 'Input dimension 1')"
      ]
     },
     "execution_count": 182,
     "metadata": {},
     "output_type": "execute_result"
    },
    {
     "data": {
      "image/png": "[encoded data removed]",
      "text/plain": [
       "<Figure size 432x288 with 1 Axes>"
      ]
     },
     "metadata": {
      "needs_background": "light"
     },
     "output_type": "display_data"
    }
   ],
   "source": [
    "#Scatter plot\n",
    "#Note the colon, this is used to select _all_ elements across a dimension.\n",
    "#Here we choose the 0th index in the second dimension for all elements in the first dimension\n",
    "plt.scatter(i[:,0],i[:,1])\n",
    "plt.xlabel(\"Input dimension 0\")\n",
    "plt.ylabel(\"Input dimension 1\")"
   ]
  },
  {
   "cell_type": "code",
   "execution_count": 184,
   "metadata": {},
   "outputs": [
    {
     "data": {
      "text/plain": [
       "Text(0, 0.5, 'Counts')"
      ]
     },
     "execution_count": 184,
     "metadata": {},
     "output_type": "execute_result"
    },
    {
     "data": {
      "image/png": "[encoded data removed]",
      "text/plain": [
       "<Figure size 432x288 with 1 Axes>"
      ]
     },
     "metadata": {
      "needs_background": "light"
     },
     "output_type": "display_data"
    }
   ],
   "source": [
    "#Histogram\n",
    "plt.hist(i[:,1],bins=np.arange(0,1,0.05))\n",
    "plt.xlabel(\"Input dimension 1\")\n",
    "plt.ylabel(\"Counts\")"
   ]
  },
  {
   "cell_type": "code",
   "execution_count": 190,
   "metadata": {},
   "outputs": [
    {
     "data": {
      "text/plain": [
       "<matplotlib.legend.Legend at 0x7fc0025a8f10>"
      ]
     },
     "execution_count": 190,
     "metadata": {},
     "output_type": "execute_result"
    },
    {
     "data": {
      "image/png": "[encoded data removed]",
      "text/plain": [
       "<Figure size 432x288 with 1 Axes>"
      ]
     },
     "metadata": {
      "needs_background": "light"
     },
     "output_type": "display_data"
    }
   ],
   "source": [
    "#Scatter plot, two data\n",
    "#Note the colon, this is used to select _all_ elements across a dimension.\n",
    "#Here we choose the 0th index in the second dimension for all elements in the first dimension\n",
    "plt.scatter(i[:,0],o[:,1],label='Input dim 0')\n",
    "plt.scatter(i[:,1],o[:,1],label='Input dim 1')\n",
    "plt.xlabel(\"Input value\")\n",
    "plt.ylabel(\"Output dimension 1\")\n",
    "plt.legend()"
   ]
  },
  {
   "cell_type": "code",
   "execution_count": 200,
   "metadata": {},
   "outputs": [
    {
     "name": "stdout",
     "output_type": "stream",
     "text": [
      "[0.001 0.001 0.001 0.001 0.001 0.001]\n",
      "1000\n"
     ]
    },
    {
     "data": {
      "image/png": "[encoded data removed]",
      "text/plain": [
       "<Figure size 864x360 with 2 Axes>"
      ]
     },
     "metadata": {
      "needs_background": "light"
     },
     "output_type": "display_data"
    }
   ],
   "source": [
    "#And of course you can put plots side by side\n",
    "fig,axes = plt.subplots(1,2)\n",
    "fig.set_size_inches(12,5)\n",
    "for j,ax in enumerate(axes):\n",
    "    ax.hist(i[:,j],\n",
    "            weights=np.ones(len(i))/len(i), \n",
    "            bins=np.arange(0,1,0.05))\n",
    "    ax.plot([0,1],[1/20]*2,linestyle='--') # add a line at 0.05 for the expectation per bin\n",
    "    ax.set_xlabel(f\"Input dimension {j}\")\n",
    "    ax.set_ylabel(\"Counts\")\n",
    "weights=np.ones(len(i))/len(i)\n",
    "print(weights[:6])\n",
    "print(len(i))"
   ]
  },
  {
   "cell_type": "markdown",
   "metadata": {},
   "source": [
    "# Extension\n",
    "\n",
    "You can never be too familiar with numpy, it saves you from needing loops in costly operations with python.\n",
    "\n",
    "If you aren't familiar with it, it will be a great benefit for all future computational applications to learn the basics of the library. You can find some useful tutorials [here](https://www.w3schools.com/python/numpy/default.asp)."
   ]
  },
  {
   "cell_type": "code",
   "execution_count": null,
   "metadata": {},
   "outputs": [],
   "source": []
  }
 ],
 "metadata": {
  "kernelspec": {
   "display_name": "Python 3",
   "language": "python",
   "name": "python3"
  },
  "language_info": {
   "codemirror_mode": {
    "name": "ipython",
    "version": 3
   },
   "file_extension": ".py",
   "mimetype": "text/x-python",
   "name": "python",
   "nbconvert_exporter": "python",
   "pygments_lexer": "ipython3",
   "version": "3.8.10"
  }
 },
 "nbformat": 4,
 "nbformat_minor": 2
}
